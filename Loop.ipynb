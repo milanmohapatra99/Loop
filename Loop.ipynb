{
 "cells": [
  {
   "cell_type": "code",
   "execution_count": 6,
   "id": "0c1658cc",
   "metadata": {},
   "outputs": [
    {
     "name": "stdout",
     "output_type": "stream",
     "text": [
      "30\n",
      "20\n",
      "5\n"
     ]
    }
   ],
   "source": [
    " a = [30, 20, 5]\n",
    "for b in a:\n",
    "    print(b)\n",
    "        "
   ]
  },
  {
   "cell_type": "code",
   "execution_count": 9,
   "id": "f0ca2ee3",
   "metadata": {},
   "outputs": [
    {
     "name": "stdout",
     "output_type": "stream",
     "text": [
      "70\n"
     ]
    }
   ],
   "source": [
    " x = [40, 20, 10]\n",
    "total = 0\n",
    "for i in x:\n",
    "    total = total + i\n",
    "print(total)    "
   ]
  },
  {
   "cell_type": "code",
   "execution_count": 11,
   "id": "86d1188a",
   "metadata": {},
   "outputs": [
    {
     "name": "stdout",
     "output_type": "stream",
     "text": [
      "[2, 3, 4, 5, 6, 7]\n"
     ]
    }
   ],
   "source": [
    "#range\n",
    "c = list(range(2,8))\n",
    "print(c)"
   ]
  },
  {
   "cell_type": "code",
   "execution_count": 13,
   "id": "9d6e7e8b",
   "metadata": {},
   "outputs": [
    {
     "name": "stdout",
     "output_type": "stream",
     "text": [
      "15\n"
     ]
    }
   ],
   "source": [
    "t=0\n",
    "for e in range(1 , 6):\n",
    "    t += e\n",
    "print(t)"
   ]
  },
  {
   "cell_type": "code",
   "execution_count": 14,
   "id": "27e80c81",
   "metadata": {},
   "outputs": [
    {
     "name": "stdout",
     "output_type": "stream",
     "text": [
      "[1, 2, 3, 4, 5, 6, 7, 8]\n"
     ]
    }
   ],
   "source": [
    "print(list(range(1,9)))"
   ]
  },
  {
   "cell_type": "code",
   "execution_count": 15,
   "id": "c989a770",
   "metadata": {},
   "outputs": [
    {
     "name": "stdout",
     "output_type": "stream",
     "text": [
      "18\n"
     ]
    }
   ],
   "source": [
    "t1 = 0\n",
    "for r in range(1 ,11):\n",
    "    if r % 3 == 0:\n",
    "        t1 += r\n",
    "print(t1)        \n",
    "    \n"
   ]
  },
  {
   "cell_type": "code",
   "execution_count": 3,
   "id": "491695bd",
   "metadata": {
    "scrolled": true
   },
   "outputs": [
    {
     "name": "stdout",
     "output_type": "stream",
     "text": [
      "sum:- 315\n"
     ]
    }
   ],
   "source": [
    "# compute all multiples of 3,5 that are less than 100\n",
    "s = 0\n",
    "for u in range(1 , 100):\n",
    "    if u % 3 == 0 and u % 5 == 0:\n",
    "        s += u\n",
    "print(\"sum:-\",s)"
   ]
  },
  {
   "cell_type": "code",
   "execution_count": 21,
   "id": "2c29572e",
   "metadata": {},
   "outputs": [
    {
     "name": "stdout",
     "output_type": "stream",
     "text": [
      "10\n"
     ]
    }
   ],
   "source": [
    "#while loops\n",
    "t = 0\n",
    "i = 1\n",
    "while i<5:\n",
    "    t += i\n",
    "    i += 1\n",
    "print(t)    \n",
    "    "
   ]
  },
  {
   "cell_type": "code",
   "execution_count": 3,
   "id": "d009396a",
   "metadata": {},
   "outputs": [
    {
     "name": "stdout",
     "output_type": "stream",
     "text": [
      "22\n"
     ]
    }
   ],
   "source": [
    "given_list = [5, 6, 8, 2, 1,  -3, -4]\n",
    "t2 = 0\n",
    "i = 0\n",
    "while given_list[i] > 0:\n",
    "    t2 += given_list[i]\n",
    "    i += 1\n",
    "print(t2)    "
   ]
  },
  {
   "cell_type": "code",
   "execution_count": 4,
   "id": "d85a91b5",
   "metadata": {},
   "outputs": [
    {
     "name": "stdout",
     "output_type": "stream",
     "text": [
      "22\n"
     ]
    }
   ],
   "source": [
    "given_list = [5, 6, 8, 2, 1]\n",
    "t2 = 0\n",
    "i = 0\n",
    "while i < len(given_list) and given_list[i] > 0:\n",
    "    t2 += given_list[i]\n",
    "    i += 1\n",
    "print(t2)    "
   ]
  },
  {
   "cell_type": "code",
   "execution_count": 3,
   "id": "22298cbc",
   "metadata": {},
   "outputs": [
    {
     "name": "stdout",
     "output_type": "stream",
     "text": [
      "22\n"
     ]
    }
   ],
   "source": [
    "given_list1 = [5, 6, 8, 2, 1, -5, -4]\n",
    "t3 =0\n",
    "for element in given_list1:\n",
    "    if element <=0:\n",
    "        break\n",
    "    t3 += element\n",
    "print(t3)    "
   ]
  },
  {
   "cell_type": "code",
   "execution_count": 5,
   "id": "4f7ecbb3",
   "metadata": {},
   "outputs": [
    {
     "name": "stdout",
     "output_type": "stream",
     "text": [
      "22\n"
     ]
    }
   ],
   "source": [
    "t4 = 0\n",
    "i = 0\n",
    "while True :\n",
    "    t4 += given_list1[i]\n",
    "    i += 1\n",
    "    if given_list1[i] <= 0:\n",
    "        break\n",
    "print(t4)    \n",
    "     \n",
    "    "
   ]
  },
  {
   "cell_type": "code",
   "execution_count": 7,
   "id": "4c51856c",
   "metadata": {},
   "outputs": [
    {
     "name": "stdout",
     "output_type": "stream",
     "text": [
      "current variable value: p\n",
      "current variable value: y\n",
      "current variable value: t\n",
      "current variable value: 10\n",
      "current variable value: 9\n",
      "current variable value: 8\n",
      "current variable value: 7\n",
      "current variable value: 6\n",
      "Good Bye!\n"
     ]
    }
   ],
   "source": [
    "\n",
    "var=10\n",
    "for letter in 'python':\n",
    "    if letter=='h':\n",
    "        break\n",
    "    print('current variable value:',letter)\n",
    "\n",
    "while var > 0:\n",
    "    print('current variable value:',var) \n",
    "    var = var-1\n",
    "    if var==5:\n",
    "        break\n",
    "print('Good Bye!')        "
   ]
  },
  {
   "cell_type": "code",
   "execution_count": 8,
   "id": "05ce67b4",
   "metadata": {},
   "outputs": [
    {
     "name": "stdout",
     "output_type": "stream",
     "text": [
      "current variable value: p\n",
      "current variable value: y\n",
      "current variable value: t\n",
      "current variable value: o\n",
      "current variable value: n\n",
      "current variable value: 9\n",
      "current variable value: 8\n",
      "current variable value: 7\n",
      "current variable value: 6\n",
      "current variable value: 4\n",
      "current variable value: 3\n",
      "current variable value: 2\n",
      "current variable value: 1\n",
      "current variable value: 0\n",
      "Good Bye!\n"
     ]
    }
   ],
   "source": [
    "var=10\n",
    "for letter in 'python':\n",
    "    if letter=='h':\n",
    "        continue\n",
    "    print('current variable value:',letter)\n",
    "\n",
    "while var > 0:\n",
    "    var = var-1\n",
    "    if var==5:\n",
    "        continue\n",
    "    print('current variable value:',var)\n",
    "print('Good Bye!')"
   ]
  },
  {
   "cell_type": "code",
   "execution_count": 1,
   "id": "ba046c13",
   "metadata": {},
   "outputs": [
    {
     "name": "stdout",
     "output_type": "stream",
     "text": [
      "before\n",
      "41 41\n",
      "74 74\n",
      "after 74\n"
     ]
    }
   ],
   "source": [
    "#filter\n",
    "smallest = None\n",
    "print('before')\n",
    "for value in [3,41,12,9,74,15]:\n",
    "    if smallest is None:\n",
    "        smallest = value\n",
    "    elif value > smallest :\n",
    "        smallest = value\n",
    "        print(smallest,value)\n",
    "print('after',smallest)        "
   ]
  },
  {
   "cell_type": "code",
   "execution_count": 5,
   "id": "4688d730",
   "metadata": {},
   "outputs": [
    {
     "name": "stdout",
     "output_type": "stream",
     "text": [
      "2318\n"
     ]
    }
   ],
   "source": [
    "#compute the sum of all multiplication\n",
    "total=0\n",
    "for i in range(1,100):\n",
    "    if i % 3==0 or i % 5 == 0:\n",
    "        total += i\n",
    "print(total)  "
   ]
  },
  {
   "cell_type": "code",
   "execution_count": 7,
   "id": "64a4e4fa",
   "metadata": {},
   "outputs": [
    {
     "name": "stdout",
     "output_type": "stream",
     "text": [
      "apple\n",
      "banana\n",
      "republic\n"
     ]
    }
   ],
   "source": [
    "a=[\"apple\",\"banana\",\"republic\"]\n",
    "for element in a:\n",
    "    print(element)\n"
   ]
  },
  {
   "cell_type": "code",
   "execution_count": 8,
   "id": "729df3b5",
   "metadata": {},
   "outputs": [
    {
     "name": "stdout",
     "output_type": "stream",
     "text": [
      "apple\n",
      "banana\n",
      "banana\n",
      "republic\n",
      "republic\n",
      "republic\n"
     ]
    }
   ],
   "source": [
    "for i in range(len(a)):\n",
    "    for j in range(i + 1):\n",
    "        print(a[i])\n",
    "    "
   ]
  },
  {
   "cell_type": "code",
   "execution_count": null,
   "id": "ea498b42",
   "metadata": {},
   "outputs": [],
   "source": []
  }
 ],
 "metadata": {
  "kernelspec": {
   "display_name": "Python 3 (ipykernel)",
   "language": "python",
   "name": "python3"
  },
  "language_info": {
   "codemirror_mode": {
    "name": "ipython",
    "version": 3
   },
   "file_extension": ".py",
   "mimetype": "text/x-python",
   "name": "python",
   "nbconvert_exporter": "python",
   "pygments_lexer": "ipython3",
   "version": "3.9.7"
  }
 },
 "nbformat": 4,
 "nbformat_minor": 5
}
